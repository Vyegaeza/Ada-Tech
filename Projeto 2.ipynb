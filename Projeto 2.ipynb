{
 "cells": [
  {
   "cell_type": "markdown",
   "metadata": {
    "application/vnd.databricks.v1+cell": {
     "cellMetadata": {},
     "inputWidgets": {},
     "nuid": "020d36d0-929f-461c-8517-f219b78cd3eb",
     "showTitle": false,
     "title": ""
    },
    "id": "GSPieMzu5pp1"
   },
   "source": [
    "# Hands-On\n",
    "\n",
    "Você foi designado para realizar a limpeza e preparação de dados de dois conjuntos de dados (base1.csv e base2.csv) distintos que representam informações relacionadas a risco de crédito.\n",
    "\n",
    "Seu objetivo é ler os dois conjuntos de dados usando a biblioteca Pandas, realizar a concatenação dos dados, lidar com valores duplicados e faltantes, além de verificar a presença de outliers nos dados combinados.\n",
    "\n",
    "____\n",
    "\n",
    "## Passos a serem seguidos:\n",
    "\n",
    "1. **Leitura dos Arquivos:** Utilize a biblioteca Pandas para ler os dois arquivos de dados: 'base1.csv' e 'base2.csv', que estão no diretório datasets, no repositório do módulo.\n",
    "2. **Concatenação dos Dados:** Concatene os dois conjuntos de dados em um único DataFrame, verificando se os dados possuem a mesma estrutura para uma concatenação adequada.\n",
    "3. **Tratamento de Dados Duplicados:** Verifique se há linhas duplicadas no DataFrame combinado e remova-as, mantendo a primeira ocorrência.\n",
    "4. **Tratamento de Valores Faltantes:** Identifique e lide com os valores faltantes no DataFrame combinado. Preencha os valores ausentes com estratégias apropriadas (média, mediana, valor específico etc.) dependendo do contexto dos dados.\n",
    "5. **Verificação de Outliers:** Utilize métodos estatísticos ou gráficos (como boxplots) para identificar a presença de outliers nos dados. Considere se eles são significativos para a análise ou se precisam ser tratados de alguma forma."
   ]
  },
  {
   "cell_type": "markdown",
   "metadata": {
    "application/vnd.databricks.v1+cell": {
     "cellMetadata": {},
     "inputWidgets": {},
     "nuid": "3b4ef3bd-85ed-4457-96e9-464d92b6cacf",
     "showTitle": false,
     "title": ""
    }
   },
   "source": [
    "Leitura dos Arquivos: Utilize a biblioteca Pandas para ler os dois arquivos de dados: 'base1.csv' e 'base2.csv', que estão no diretório datasets, no repositório do módulo."
   ]
  },
  {
   "cell_type": "code",
   "execution_count": 0,
   "metadata": {
    "application/vnd.databricks.v1+cell": {
     "cellMetadata": {
      "byteLimit": 2048000,
      "rowLimit": 10000
     },
     "inputWidgets": {},
     "nuid": "e63d92ed-d129-4bd9-b743-fcc38477089a",
     "showTitle": false,
     "title": ""
    },
    "id": "Lb-gowl26bzX"
   },
   "outputs": [],
   "source": [
    "import pandas as pd\n",
    "\n",
    "# Comando para ler os arquivos\n",
    "df_base1 = pd.read_csv(\"/Workspace/Repos/caiquer@unimedcampinas.com.br/ADA_classes/DS-PY-Data-Science/DS-PY-004 TÉCNICAS DE PROGRAMAÇÃO I (PY)/Material do Aluno/datasets/base1.csv\")\n",
    "df_base2 = pd.read_csv(\"/Workspace/Repos/caiquer@unimedcampinas.com.br/ADA_classes/DS-PY-Data-Science/DS-PY-004 TÉCNICAS DE PROGRAMAÇÃO I (PY)/Material do Aluno/datasets/base2.csv\")"
   ]
  },
  {
   "cell_type": "markdown",
   "metadata": {
    "application/vnd.databricks.v1+cell": {
     "cellMetadata": {
      "byteLimit": 2048000,
      "rowLimit": 10000
     },
     "inputWidgets": {},
     "nuid": "3439e4e7-20e6-473a-a852-ab5504df05e7",
     "showTitle": false,
     "title": ""
    }
   },
   "source": [
    "Concatenação dos Dados: Concatene os dois conjuntos de dados em um único DataFrame, verificando se os dados possuem a mesma estrutura para uma concatenação adequada."
   ]
  },
  {
   "cell_type": "code",
   "execution_count": 0,
   "metadata": {
    "application/vnd.databricks.v1+cell": {
     "cellMetadata": {
      "byteLimit": 2048000,
      "rowLimit": 10000
     },
     "inputWidgets": {},
     "nuid": "785a1571-f4f3-4f5e-b46e-779f02913831",
     "showTitle": false,
     "title": ""
    }
   },
   "outputs": [
    {
     "output_type": "stream",
     "name": "stdout",
     "output_type": "stream",
     "text": [
      "(670, 12)\n(330, 12)\nOs DataFrames possuem a mesma estrutura e podem ser concatenados\n"
     ]
    }
   ],
   "source": [
    "# Verificar se os dados possuem a mesma estrutura\n",
    "print(df_base1.shape)\n",
    "print(df_base2.shape)\n",
    "\n",
    "if df_base1.shape[1] == df_base2.shape[1]:\n",
    "    print(\"Os DataFrames possuem a mesma estrutura e podem ser concatenados\")\n",
    "else:\n",
    "    print(\"Os DataFrames não possuem a mesma estrutura e não podem ser concatenados\")\n",
    "\n",
    "df_dados = pd.concat([df_base1, df_base2], ignore_index=True) # Concatenando os DataFrames"
   ]
  },
  {
   "cell_type": "markdown",
   "metadata": {
    "application/vnd.databricks.v1+cell": {
     "cellMetadata": {
      "byteLimit": 2048000,
      "rowLimit": 10000
     },
     "inputWidgets": {},
     "nuid": "6b99b5e4-0d7e-4001-9e64-32b1c8861c97",
     "showTitle": false,
     "title": ""
    }
   },
   "source": [
    "Tratamento de Dados Duplicados: Verifique se há linhas duplicadas no DataFrame combinado e remova-as, mantendo a primeira ocorrência."
   ]
  },
  {
   "cell_type": "code",
   "execution_count": 0,
   "metadata": {
    "application/vnd.databricks.v1+cell": {
     "cellMetadata": {
      "byteLimit": 2048000,
      "rowLimit": 10000
     },
     "inputWidgets": {},
     "nuid": "e4d98328-d9c3-4e9b-bfc2-21b710404573",
     "showTitle": false,
     "title": ""
    }
   },
   "outputs": [
    {
     "output_type": "stream",
     "name": "stdout",
     "output_type": "stream",
     "text": [
      "Existem 0 linhas duplicadas no DataFrame concatenado\n"
     ]
    }
   ],
   "source": [
    "print(f'Existem {df_dados.duplicated().sum()} linhas duplicadas no DataFrame concatenado') # Verificar se há linhas duplicadas no DataFrame combinado\n",
    "\n",
    "df_dados = df_dados.drop_duplicates() # Não existem linhas duplicadas, mas caso elas sejam inseridas, basta removê-las com esta linha"
   ]
  },
  {
   "cell_type": "markdown",
   "metadata": {
    "application/vnd.databricks.v1+cell": {
     "cellMetadata": {
      "byteLimit": 2048000,
      "rowLimit": 10000
     },
     "inputWidgets": {},
     "nuid": "015b89ae-7946-4761-a19a-70b83edf544d",
     "showTitle": false,
     "title": ""
    }
   },
   "source": [
    "Tratamento de Valores Faltantes: Identifique e lide com os valores faltantes no DataFrame combinado. Preencha os valores ausentes com estratégias apropriadas (média, mediana, valor específico etc.) dependendo do contexto dos dados."
   ]
  },
  {
   "cell_type": "code",
   "execution_count": 0,
   "metadata": {
    "application/vnd.databricks.v1+cell": {
     "cellMetadata": {
      "byteLimit": 2048000,
      "rowLimit": 10000
     },
     "inputWidgets": {},
     "nuid": "72c6511d-abeb-40a8-bf9f-c00ee998057a",
     "showTitle": false,
     "title": ""
    }
   },
   "outputs": [
    {
     "output_type": "stream",
     "name": "stdout",
     "output_type": "stream",
     "text": [
      "Unnamed: 0.1          0\nUnnamed: 0            0\nAge                   0\nSex                   0\nJob                   0\nHousing               0\nSaving accounts     183\nChecking account    394\nCredit amount         0\nDuration              0\nPurpose               0\nRisk                  0\ndtype: int64\n"
     ]
    }
   ],
   "source": [
    "print(df_dados.isnull().sum()) # Verificar o número de valores faltantes em cada coluna\n",
    "\n",
    "# As colunas \"Saving accounts\" e \"Checking account\" possuem valores faltantes\n",
    "\n",
    "df_dados[\"Saving accounts\"] = pd.to_numeric(df_dados[\"Saving accounts\"], errors=\"coerce\") # Troca os valores não numéricos por numéricos\n",
    "df_dados[\"Saving accounts\"].fillna(df_dados[\"Saving accounts\"].mean(), inplace=True) # Preencher os valores faltantes na coluna \"Saving Accounts\" com a média\n",
    "df_dados[\"Checking account\"].fillna(0, inplace=True) # Preencher os valores faltantes na coluna \"Checking Account\" com o valor 0"
   ]
  },
  {
   "cell_type": "markdown",
   "metadata": {
    "application/vnd.databricks.v1+cell": {
     "cellMetadata": {
      "byteLimit": 2048000,
      "rowLimit": 10000
     },
     "inputWidgets": {},
     "nuid": "f9179f07-54ae-4f02-a3f9-33887edc88e9",
     "showTitle": false,
     "title": ""
    }
   },
   "source": [
    "Verificação de Outliers: Utilize métodos estatísticos ou gráficos (como boxplots) para identificar a presença de outliers nos dados. Considere se eles são significativos para a análise ou se precisam ser tratados de alguma forma."
   ]
  },
  {
   "cell_type": "code",
   "execution_count": 0,
   "metadata": {
    "application/vnd.databricks.v1+cell": {
     "cellMetadata": {
      "byteLimit": 2048000,
      "rowLimit": 10000
     },
     "inputWidgets": {},
     "nuid": "3fa32b4f-3cc6-4803-801d-b004fb53b2ea",
     "showTitle": false,
     "title": ""
    }
   },
   "outputs": [
    {
     "output_type": "display_data",
     "data": {
      "image/png": "[encoded data removed]",
      "text/plain": [
       "<Figure size 640x480 with 1 Axes>"
      ]
     },
     "metadata": {},
     "output_type": "display_data"
    },
    {
     "output_type": "display_data",
     "data": {
      "text/plain": [
       "\u001B[0;31m---------------------------------------------------------------------------\u001B[0m\n",
       "\u001B[0;31mNameError\u001B[0m                                 Traceback (most recent call last)\n",
       "File \u001B[0;32m<command-1661549441160774>, line 4\u001B[0m\n",
       "\u001B[1;32m      2\u001B[0m \u001B[38;5;28;01mfor\u001B[39;00m col \u001B[38;5;129;01min\u001B[39;00m df_dados\u001B[38;5;241m.\u001B[39mselect_dtypes(include\u001B[38;5;241m=\u001B[39m[\u001B[38;5;124m\"\u001B[39m\u001B[38;5;124mfloat64\u001B[39m\u001B[38;5;124m\"\u001B[39m, \u001B[38;5;124m\"\u001B[39m\u001B[38;5;124mint64\u001B[39m\u001B[38;5;124m\"\u001B[39m])\u001B[38;5;241m.\u001B[39mcolumns:\n",
       "\u001B[1;32m      3\u001B[0m     df_dados[col]\u001B[38;5;241m.\u001B[39mplot(kind\u001B[38;5;241m=\u001B[39m\u001B[38;5;124m\"\u001B[39m\u001B[38;5;124mbox\u001B[39m\u001B[38;5;124m\"\u001B[39m)\n",
       "\u001B[0;32m----> 4\u001B[0m     plt\u001B[38;5;241m.\u001B[39mshow()\n",
       "\u001B[1;32m      6\u001B[0m \u001B[38;5;66;03m# Os boxplots indicam a presença de outliers nas colunas \"idade\", \"renda\" e \"tempo_empregado\"\u001B[39;00m\n",
       "\u001B[1;32m      7\u001B[0m \n",
       "\u001B[1;32m      8\u001B[0m \u001B[38;5;66;03m# Remover os outliers nas colunas \"idade\" e \"renda\"\u001B[39;00m\n",
       "\u001B[1;32m      9\u001B[0m \u001B[38;5;28;01mdef\u001B[39;00m \u001B[38;5;21mremove_outliers\u001B[39m(df, col):\n",
       "\u001B[1;32m     10\u001B[0m     \u001B[38;5;66;03m# Definir os limites superior e inferior para os outliers\u001B[39;00m\n",
       "\n",
       "\u001B[0;31mNameError\u001B[0m: name 'plt' is not defined"
      ]
     },
     "metadata": {
      "application/vnd.databricks.v1+output": {
       "arguments": {},
       "data": "\u001B[0;31m---------------------------------------------------------------------------\u001B[0m\n\u001B[0;31mNameError\u001B[0m                                 Traceback (most recent call last)\nFile \u001B[0;32m<command-1661549441160774>, line 4\u001B[0m\n\u001B[1;32m      2\u001B[0m \u001B[38;5;28;01mfor\u001B[39;00m col \u001B[38;5;129;01min\u001B[39;00m df_dados\u001B[38;5;241m.\u001B[39mselect_dtypes(include\u001B[38;5;241m=\u001B[39m[\u001B[38;5;124m\"\u001B[39m\u001B[38;5;124mfloat64\u001B[39m\u001B[38;5;124m\"\u001B[39m, \u001B[38;5;124m\"\u001B[39m\u001B[38;5;124mint64\u001B[39m\u001B[38;5;124m\"\u001B[39m])\u001B[38;5;241m.\u001B[39mcolumns:\n\u001B[1;32m      3\u001B[0m     df_dados[col]\u001B[38;5;241m.\u001B[39mplot(kind\u001B[38;5;241m=\u001B[39m\u001B[38;5;124m\"\u001B[39m\u001B[38;5;124mbox\u001B[39m\u001B[38;5;124m\"\u001B[39m)\n\u001B[0;32m----> 4\u001B[0m     plt\u001B[38;5;241m.\u001B[39mshow()\n\u001B[1;32m      6\u001B[0m \u001B[38;5;66;03m# Os boxplots indicam a presença de outliers nas colunas \"idade\", \"renda\" e \"tempo_empregado\"\u001B[39;00m\n\u001B[1;32m      7\u001B[0m \n\u001B[1;32m      8\u001B[0m \u001B[38;5;66;03m# Remover os outliers nas colunas \"idade\" e \"renda\"\u001B[39;00m\n\u001B[1;32m      9\u001B[0m \u001B[38;5;28;01mdef\u001B[39;00m \u001B[38;5;21mremove_outliers\u001B[39m(df, col):\n\u001B[1;32m     10\u001B[0m     \u001B[38;5;66;03m# Definir os limites superior e inferior para os outliers\u001B[39;00m\n\n\u001B[0;31mNameError\u001B[0m: name 'plt' is not defined",
       "errorSummary": "<span class='ansi-red-fg'>NameError</span>: name 'plt' is not defined",
       "errorTraceType": "ansi",
       "metadata": {},
       "type": "ipynbError"
      }
     },
     "output_type": "display_data"
    }
   ],
   "source": [
    "# Visualizar o boxplot das colunas numéricas\n",
    "for col in df_dados.select_dtypes(include=[\"float64\", \"int64\"]).columns:\n",
    "    df_dados[col].plot(kind=\"box\")\n",
    "    plt.show()\n",
    "\n",
    "# Remover os outliers das colunas\n",
    "def remove_outliers(df, col):\n",
    "    lim_superior = df[col].quantile(0.95)\n",
    "    lim_inferior = df[col].quantile(0.05)\n",
    "\n",
    "    df = df.query(f\"{col} >= {lim_inferior} and {col} <= {lim_superior}\") # Remover as linhas fora dos limites\n",
    "    return df\n",
    "\n",
    "df_dados = remove_outliers(df_dados, \"Saving accounts\")\n",
    "df_dados = remove_outliers(df_dados, \"Checking account\")"
   ]
  }
 ],
 "metadata": {
  "application/vnd.databricks.v1+notebook": {
   "dashboards": [],
   "language": "python",
   "notebookMetadata": {
    "pythonIndentUnit": 4
   },
   "notebookName": "Hans_On_Aula_06 (1)",
   "widgets": {}
  },
  "colab": {
   "provenance": []
  },
  "kernelspec": {
   "display_name": "Python 3",
   "name": "python3"
  },
  "language_info": {
   "name": "python"
  }
 },
 "nbformat": 4,
 "nbformat_minor": 0
}
