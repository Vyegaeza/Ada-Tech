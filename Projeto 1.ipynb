{
 "cells": [
  {
   "cell_type": "markdown",
   "metadata": {
    "application/vnd.databricks.v1+cell": {
     "cellMetadata": {},
     "inputWidgets": {},
     "nuid": "a65c5c75-30f7-4bf4-8e39-4e98575d7d8a",
     "showTitle": false,
     "title": ""
    }
   },
   "source": [
    "Objetivo\n",
    "Você tem a tarefa de criar uma simulação para um jogo de dados. Essa simulação tem como objetivo reunir estatísticas para analisar a justiça do jogo, possíveis resultados e fazer previsões sobre jogos futuros.\n",
    "\n",
    "\n",
    "Desafios do Projeto\n",
    "\n",
    "Simulação de Dados: Crie uma função que simule o lançamento de dois dados de seis lados (valores de 1 a 6). Esta função deve retornar a soma dos resultados dos dados.\n",
    "\n",
    "Múltiplas Simulações: Use a função do passo 1 para simular um grande número de jogos de dados (digamos, 1000 jogos). Armazene o resultado de cada jogo em um array NumPy.\n",
    "\n",
    "Análise de Dados: Agora, vamos analisar os resultados desses jogos. Calcule e imprima o seguinte:\n",
    "  A média dos resultados.\n",
    "  O lançamento máximo e mínimo.\n",
    "  O número de vezes que cada possível lançamento (2, 3, 4, 5, 6, 7, 8, 9, 10, 11 e 12) ocorreu.\n",
    "  Teste de Hipótese: Agora vamos fazer um pouco de teste de hipóteses:\n",
    "    Supondo um jogo justo (ou seja, todos os lançamentos são igualmente prováveis), o resultado da sua simulação coincide com essa suposição? Por que sim ou por que não?\n",
    "    O que isso significa para um jogador do jogo de dados?\n",
    "\n",
    "\n",
    "Entregáveis\n",
    "\n",
    "Um script Python (arquivo .py ou .ipynb) com a sua solução para os desafios apresentados.\n",
    "\n",
    "Tempo de apresentação: A depender da quantidade de grupos. (Aproximadamente de 15 ~ 20 minutos)"
   ]
  },
  {
   "cell_type": "markdown",
   "metadata": {
    "application/vnd.databricks.v1+cell": {
     "cellMetadata": {},
     "inputWidgets": {},
     "nuid": "e5617206-b28c-497f-8df4-17f40eb4f4cf",
     "showTitle": false,
     "title": ""
    }
   },
   "source": [
    "Simulação de Dados: Crie uma função que simule o lançamento de dois dados de seis lados (valores de 1 a 6). Esta função deve retornar a soma dos resultados dos dados."
   ]
  },
  {
   "cell_type": "code",
   "execution_count": 0,
   "metadata": {
    "application/vnd.databricks.v1+cell": {
     "cellMetadata": {
      "byteLimit": 2048000,
      "rowLimit": 10000
     },
     "inputWidgets": {},
     "nuid": "7305d7c7-19e7-4c96-8ddb-d79b5c81621d",
     "showTitle": false,
     "title": ""
    }
   },
   "outputs": [
    {
     "output_type": "stream",
     "name": "stdout",
     "output_type": "stream",
     "text": [
      "A soma dos dados é 11\n"
     ]
    }
   ],
   "source": [
    "import numpy as np\n",
    "\n",
    "def lancar_dados():\n",
    "    dado1 = np.random.randint(1, 7) # Gera um número de 1 a 6 para o dado 1\n",
    "    dado2 = np.random.randint(1, 7) # Gera um número de 1 a 6 para o dado 2\n",
    "    soma = dado1 + dado2 # Soma os valores dos dados com valores gerados aleatoriamente\n",
    "    return soma # Retorna a soma dos resultados dos dados\n",
    "\n",
    "print('A soma dos dados é',lancar_dados())"
   ]
  },
  {
   "cell_type": "markdown",
   "metadata": {
    "application/vnd.databricks.v1+cell": {
     "cellMetadata": {},
     "inputWidgets": {},
     "nuid": "d776bcdf-7532-4d7b-91bf-45b0ecf07968",
     "showTitle": false,
     "title": ""
    }
   },
   "source": [
    "Múltiplas Simulações: Use a função do passo 1 para simular um grande número de jogos de dados (digamos, 1000 jogos). Armazene o resultado de cada jogo em um array NumPy."
   ]
  },
  {
   "cell_type": "code",
   "execution_count": 0,
   "metadata": {
    "application/vnd.databricks.v1+cell": {
     "cellMetadata": {
      "byteLimit": 2048000,
      "rowLimit": 10000
     },
     "inputWidgets": {},
     "nuid": "aa84a0fe-14b0-4d21-888c-38ffa15f2e33",
     "showTitle": false,
     "title": ""
    }
   },
   "outputs": [
    {
     "output_type": "execute_result",
     "data": {
      "text/plain": [
       "<AxesSubplot:ylabel='Count'>"
      ]
     },
     "execution_count": 51,
     "metadata": {},
     "output_type": "execute_result"
    },
    {
     "output_type": "display_data",
     "data": {
      "image/png": "[encoded data removed]",
      "text/plain": [
       "<Figure size 640x480 with 1 Axes>"
      ]
     },
     "metadata": {},
     "output_type": "display_data"
    }
   ],
   "source": [
    "import seaborn as sns\n",
    "\n",
    "valores = np.array([lancar_dados() for x in range(1000)]) # Simula 1000 jogos de dados e armazena os valores na array \"valores\"\n",
    "sns.histplot(valores) # Imprime a distribuição dos resultados"
   ]
  },
  {
   "cell_type": "markdown",
   "metadata": {
    "application/vnd.databricks.v1+cell": {
     "cellMetadata": {},
     "inputWidgets": {},
     "nuid": "eb94658a-9884-49ee-a0fe-9cebef593d60",
     "showTitle": false,
     "title": ""
    }
   },
   "source": [
    "Análise de Dados: Agora, vamos analisar os resultados desses jogos.\n",
    "  Calcule e imprima o seguinte:\n",
    "    A média dos resultados.\n",
    "    O lançamento máximo e mínimo.\n",
    "    O número de vezes que cada possível lançamento (2, 3, 4, 5, 6, 7, 8, 9, 10, 11 e 12) ocorreu."
   ]
  },
  {
   "cell_type": "code",
   "execution_count": 0,
   "metadata": {
    "application/vnd.databricks.v1+cell": {
     "cellMetadata": {
      "byteLimit": 2048000,
      "rowLimit": 10000
     },
     "inputWidgets": {},
     "nuid": "b97171f4-387d-43aa-847f-6f5732a82bf7",
     "showTitle": false,
     "title": ""
    }
   },
   "outputs": [
    {
     "output_type": "stream",
     "name": "stdout",
     "output_type": "stream",
     "text": [
      "A média dos valores é de 7.002\nO valor máximo dos dados somados na amostra é 12\nO valor mínimo dos dados somados na amostra é 2\nA quantidade de vezes que cada elemento aparece na amostra é:\n 7     158\n8     148\n6     137\n5     108\n10    107\n9     106\n4      89\n3      49\n11     43\n2      31\n12     24\ndtype: int64\n"
     ]
    },
    {
     "output_type": "execute_result",
     "data": {
      "text/plain": [
       "<AxesSubplot:ylabel='Count'>"
      ]
     },
     "execution_count": 22,
     "metadata": {},
     "output_type": "execute_result"
    },
    {
     "output_type": "display_data",
     "data": {
      "image/png": "[encoded data removed]",
      "text/plain": [
       "<Figure size 640x480 with 1 Axes>"
      ]
     },
     "metadata": {},
     "output_type": "display_data"
    }
   ],
   "source": [
    "import pandas as pd\n",
    "\n",
    "media = valores.sum()/len(valores) # Soma os valores da array e divide pelo número de elementos\n",
    "print('A média dos valores é de', media)\n",
    "\n",
    "max = valores.max() # Encontra o valor máximo da array\n",
    "min = valores.min() # Encontra o valor mínimo da array\n",
    "print('O valor máximo dos dados somados na amostra é',max)\n",
    "print('O valor mínimo dos dados somados na amostra é',min)\n",
    "\n",
    "contagem = pd.value_counts(valores) # Conta a quantidade de vezes que um elemento aparece na array\n",
    "print('A quantidade de vezes que cada elemento aparece na amostra é:\\n',contagem)\n",
    "\n",
    "sns.histplot(valores) # Plota o gráfico em questão"
   ]
  },
  {
   "cell_type": "markdown",
   "metadata": {
    "application/vnd.databricks.v1+cell": {
     "cellMetadata": {},
     "inputWidgets": {},
     "nuid": "4a4e5f0a-9648-4e33-90e0-c0c620f3da5a",
     "showTitle": false,
     "title": ""
    }
   },
   "source": [
    "Teste de Hipótese: Agora vamos fazer um pouco de teste de hipóteses:\n",
    "  Supondo um jogo justo (ou seja, todos os lançamentos são igualmente prováveis), o resultado da sua simulação coincide com essa suposição? Por que sim ou por que não?\n",
    "  O que isso significa para um jogador do jogo de dados?"
   ]
  },
  {
   "cell_type": "markdown",
   "metadata": {
    "application/vnd.databricks.v1+cell": {
     "cellMetadata": {},
     "inputWidgets": {},
     "nuid": "600fca3c-06e9-4aae-84c0-ce3d23d375ae",
     "showTitle": false,
     "title": ""
    }
   },
   "source": [
    "Considerando um jogo justo, o resultado da simulação está coerente, pois o esperado seria uma distribuição normal dos resultados, fato que pode ser observado no gráfico plotado.\n",
    "Para o jogador, o resultado indica que o jogo é justo, que os resultados individuais de cada dado são de fato escolhidos aleatoriamente entre 1 e 6."
   ]
  }
 ],
 "metadata": {
  "application/vnd.databricks.v1+notebook": {
   "dashboards": [],
   "language": "python",
   "notebookMetadata": {
    "pythonIndentUnit": 4
   },
   "notebookName": "Projeto 1",
   "widgets": {}
  }
 },
 "nbformat": 4,
 "nbformat_minor": 0
}
